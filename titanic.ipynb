{
 "cells": [
  {
   "cell_type": "markdown",
   "metadata": {},
   "source": [
    "# Titanic Survival Prediction Using Machine Learning\n",
    "\n",
    "\n",
    "The RMS Titanic was known as the unsinkable ship and was the largest, most luxurious passenger ship of its time. \n",
    "Sadly, the British ocean liner sank on 15th of April 1912, killing over 1500 people while just 705 survived.\n",
    "In this article, we analyse the Titanic data set and make two predictions. \n",
    "One prediction to see which passengers on board the ship would survive and then another prediction to see \n",
    "if we would’ve given the set of variables.\n",
    "\n",
    "\n",
    "The following packages and libraries were imported to aid with the completion of this task."
   ]
  },
  {
   "cell_type": "code",
   "execution_count": 1,
   "metadata": {},
   "outputs": [],
   "source": [
    "import numpy as np\n",
    "import pandas as pd\n",
    "import seaborn as sns\n",
    "import matplotlib.pyplot as plt"
   ]
  },
  {
   "cell_type": "markdown",
   "metadata": {},
   "source": [
    "# Importing the dataset\n",
    "\n",
    "The titanic data set was then imported using Pandas. It contains information of 887 passengers that embarked the ship. The data included the age, class number of siblings/spouses present on the ship, number of parents or children on board, the fare the passengers paid, the gender of each passenger and whether or not the passanger had survived. Firstly, we had to remove the passenger's name column as it is not quantifiable data. We also had to define the genders of the passengers. They were originally defined as 'male' and 'female', and we defined male as 1 and female as 0.\n"
   ]
  },
  {
   "cell_type": "code",
   "execution_count": 2,
   "metadata": {
    "scrolled": false
   },
   "outputs": [
    {
     "data": {
      "text/html": [
       "<div>\n",
       "<style scoped>\n",
       "    .dataframe tbody tr th:only-of-type {\n",
       "        vertical-align: middle;\n",
       "    }\n",
       "\n",
       "    .dataframe tbody tr th {\n",
       "        vertical-align: top;\n",
       "    }\n",
       "\n",
       "    .dataframe thead th {\n",
       "        text-align: right;\n",
       "    }\n",
       "</style>\n",
       "<table border=\"1\" class=\"dataframe\">\n",
       "  <thead>\n",
       "    <tr style=\"text-align: right;\">\n",
       "      <th></th>\n",
       "      <th>Survived</th>\n",
       "      <th>Pclass</th>\n",
       "      <th>Age</th>\n",
       "      <th>Siblings/Spouses Aboard</th>\n",
       "      <th>Parents/Children Aboard</th>\n",
       "      <th>Fare</th>\n",
       "      <th>male</th>\n",
       "    </tr>\n",
       "  </thead>\n",
       "  <tbody>\n",
       "    <tr>\n",
       "      <th>0</th>\n",
       "      <td>0</td>\n",
       "      <td>3</td>\n",
       "      <td>22.0</td>\n",
       "      <td>1</td>\n",
       "      <td>0</td>\n",
       "      <td>7.2500</td>\n",
       "      <td>1</td>\n",
       "    </tr>\n",
       "    <tr>\n",
       "      <th>1</th>\n",
       "      <td>1</td>\n",
       "      <td>1</td>\n",
       "      <td>38.0</td>\n",
       "      <td>1</td>\n",
       "      <td>0</td>\n",
       "      <td>71.2833</td>\n",
       "      <td>0</td>\n",
       "    </tr>\n",
       "    <tr>\n",
       "      <th>2</th>\n",
       "      <td>1</td>\n",
       "      <td>3</td>\n",
       "      <td>26.0</td>\n",
       "      <td>0</td>\n",
       "      <td>0</td>\n",
       "      <td>7.9250</td>\n",
       "      <td>0</td>\n",
       "    </tr>\n",
       "    <tr>\n",
       "      <th>3</th>\n",
       "      <td>1</td>\n",
       "      <td>1</td>\n",
       "      <td>35.0</td>\n",
       "      <td>1</td>\n",
       "      <td>0</td>\n",
       "      <td>53.1000</td>\n",
       "      <td>0</td>\n",
       "    </tr>\n",
       "    <tr>\n",
       "      <th>4</th>\n",
       "      <td>0</td>\n",
       "      <td>3</td>\n",
       "      <td>35.0</td>\n",
       "      <td>0</td>\n",
       "      <td>0</td>\n",
       "      <td>8.0500</td>\n",
       "      <td>1</td>\n",
       "    </tr>\n",
       "  </tbody>\n",
       "</table>\n",
       "</div>"
      ],
      "text/plain": [
       "   Survived  Pclass   Age  Siblings/Spouses Aboard  Parents/Children Aboard  \\\n",
       "0         0       3  22.0                        1                        0   \n",
       "1         1       1  38.0                        1                        0   \n",
       "2         1       3  26.0                        0                        0   \n",
       "3         1       1  35.0                        1                        0   \n",
       "4         0       3  35.0                        0                        0   \n",
       "\n",
       "      Fare  male  \n",
       "0   7.2500     1  \n",
       "1  71.2833     0  \n",
       "2   7.9250     0  \n",
       "3  53.1000     0  \n",
       "4   8.0500     1  "
      ]
     },
     "execution_count": 2,
     "metadata": {},
     "output_type": "execute_result"
    }
   ],
   "source": [
    "titanic = pd.read_csv('titanic.csv')\n",
    "\n",
    "titanic.drop([\"Name\"], axis = 1, inplace = True) \n",
    "sex=pd.get_dummies(titanic['Sex'],drop_first=True)  #creates dummie column for sex where 1 is male \n",
    "titanic=pd.concat([titanic,sex],axis=1) # adds the dummie column to the data set \n",
    "titanic.drop([\"Sex\"], axis = 1, inplace = True)  #replaces the sex column with dummie column \n",
    "titanic.head(5)"
   ]
  },
  {
   "cell_type": "markdown",
   "metadata": {},
   "source": [
    "# Analysis of the dataset\n",
    "\n",
    "Before we trained our model, we wanted to get an understanding of what factors implemented survival on the ship, so we visualised some of the data to gain an understanding of the dataset."
   ]
  },
  {
   "cell_type": "code",
   "execution_count": 3,
   "metadata": {},
   "outputs": [
    {
     "data": {
      "text/plain": [
       "<matplotlib.axes._subplots.AxesSubplot at 0x1a1dbde940>"
      ]
     },
     "execution_count": 3,
     "metadata": {},
     "output_type": "execute_result"
    },
    {
     "data": {
      "image/png": "[encoded data removed]",
      "text/plain": [
       "<Figure size 432x288 with 1 Axes>"
      ]
     },
     "metadata": {
      "needs_background": "light"
     },
     "output_type": "display_data"
    }
   ],
   "source": [
    "#Graph to visulaise number of survivors\n",
    "sns.countplot(  titanic['Survived'])"
   ]
  },
  {
   "cell_type": "markdown",
   "metadata": {},
   "source": [
    "The above graph can be used to approximate the number of people aboard that died and those that survived. The main point to take away from this chart is that more people aboard died than survived."
   ]
  },
  {
   "cell_type": "code",
   "execution_count": 4,
   "metadata": {},
   "outputs": [],
   "source": [
    "def bar_chart(feature):\n",
    "    survived = titanic[titanic['Survived']==1][feature].value_counts()\n",
    "    dead = titanic[titanic['Survived']==0] [feature].value_counts()\n",
    "    df = pd.DataFrame([survived,dead])\n",
    "    df.index = ['Survived', 'Dead']\n",
    "    df.plot(kind='bar', stacked = False, figsize=(10,5))\n",
    "    "
   ]
  },
  {
   "cell_type": "code",
   "execution_count": 5,
   "metadata": {},
   "outputs": [
    {
     "data": {
      "text/plain": [
       "Text(0, 0.5, 'Count')"
      ]
     },
     "execution_count": 5,
     "metadata": {},
     "output_type": "execute_result"
    },
    {
     "data": {
      "image/png": "[encoded data removed]",
      "text/plain": [
       "<Figure size 720x360 with 1 Axes>"
      ]
     },
     "metadata": {
      "needs_background": "light"
     },
     "output_type": "display_data"
    }
   ],
   "source": [
    "bar_chart('male')\n",
    "plt.title('Survival by gender')\n",
    "plt.ylabel('Count')"
   ]
  },
  {
   "cell_type": "markdown",
   "metadata": {},
   "source": [
    "Perhaps one of the most important factors to look at is gender and this bar graph shows the numbers of passengers that died and survived by gender. It shows clearly that of those that survived, most were female and most of those that died were male. This makes sense as it is likely that women were given priority over men.\n",
    "\n",
    "To express this numerically, approximately 70% of survivors were female according to the chart."
   ]
  },
  {
   "cell_type": "code",
   "execution_count": 6,
   "metadata": {},
   "outputs": [
    {
     "data": {
      "image/png": "[encoded data removed]",
      "text/plain": [
       "<Figure size 699.875x216 with 1 Axes>"
      ]
     },
     "metadata": {
      "needs_background": "light"
     },
     "output_type": "display_data"
    }
   ],
   "source": [
    "facet = sns.FacetGrid(titanic, hue = \"Survived\", aspect = 3)\n",
    "facet.map(sns.kdeplot, 'Age')\n",
    "facet.set(xlim=(0, titanic['Age'].max()))\n",
    "facet.add_legend()\n",
    "facet.set_ylabels('Proportion of passengers')\n",
    "plt.show()\n",
    "\n",
    "#a means of plotting age"
   ]
  },
  {
   "cell_type": "markdown",
   "metadata": {},
   "source": [
    "Another important factor to look at is age. The above graph shows the distribution of survival with age. Young children aged 13 and under were more likely to survive most likely due to being given priority.\n",
    "\n",
    "Ages from about 14 to 30 were found to more likely die than survive due to perhaps assisting other passengers before saving themselves.\n",
    "\n",
    "Passengers aged 30 to 55 were more likely to survive while passengers over 55 were more likely to die perhaps due to the freezing conditions or sacrificing themselves for passengers younger than them."
   ]
  },
  {
   "cell_type": "code",
   "execution_count": 7,
   "metadata": {},
   "outputs": [
    {
     "data": {
      "text/plain": [
       "Text(0, 0.5, 'Count')"
      ]
     },
     "execution_count": 7,
     "metadata": {},
     "output_type": "execute_result"
    },
    {
     "data": {
      "image/png": "[encoded data removed]",
      "text/plain": [
       "<Figure size 720x360 with 1 Axes>"
      ]
     },
     "metadata": {
      "needs_background": "light"
     },
     "output_type": "display_data"
    }
   ],
   "source": [
    "bar_chart('Pclass')\n",
    "plt.title('Gender')\n",
    "plt.ylabel('Count')"
   ]
  },
  {
   "cell_type": "markdown",
   "metadata": {},
   "source": [
    "The above bar chart shows the number of passengers that survived and died, depending on their class aboard the ship.\n",
    "\n",
    "Focusing on the bars on the right which show the number of passengers that died, it is unfortunate to realise that wealthier passengers in more expensive classes were prioritised when it came to being rescued as, by far, the majority of passengers that died were from Class 3."
   ]
  },
  {
   "cell_type": "code",
   "execution_count": 8,
   "metadata": {},
   "outputs": [
    {
     "data": {
      "text/plain": [
       "Text(0, 0.5, 'Count')"
      ]
     },
     "execution_count": 8,
     "metadata": {},
     "output_type": "execute_result"
    },
    {
     "data": {
      "image/png": "[encoded data removed]",
      "text/plain": [
       "<Figure size 720x360 with 1 Axes>"
      ]
     },
     "metadata": {
      "needs_background": "light"
     },
     "output_type": "display_data"
    }
   ],
   "source": [
    "bar_chart('Siblings/Spouses Aboard')\n",
    "plt.title('Number of siblings/spouses aboard')\n",
    "plt.ylabel('Count')"
   ]
  },
  {
   "cell_type": "markdown",
   "metadata": {},
   "source": [
    "This chart has a bit more information to look at. But the general trend it depicts is that not only did most passengers aboard have no siblings or spouses but they also had a higher chance of not surviving as a result; having a survival rate of just 34-35%.\n",
    "\n",
    "Seeing as the graphs show a decreasing trend as number of siblings/spouses increase, it is likely that a passenger would save them rather than themselves.\n",
    "\n",
    "The fact that the survival rate of passengers with 5-8 siblings/spouses is 0% is very important to think about. This is likely because these passengers with larger families were in Class 3.\n",
    "\n",
    "Interestingly, more people with one sibling or spouse survived rather than died but only just; suggesting that one sibling/spouse is the magic number."
   ]
  },
  {
   "cell_type": "code",
   "execution_count": 9,
   "metadata": {},
   "outputs": [
    {
     "data": {
      "text/plain": [
       "Text(0, 0.5, 'Count')"
      ]
     },
     "execution_count": 9,
     "metadata": {},
     "output_type": "execute_result"
    },
    {
     "data": {
      "image/png": "[encoded data removed]",
      "text/plain": [
       "<Figure size 720x360 with 1 Axes>"
      ]
     },
     "metadata": {
      "needs_background": "light"
     },
     "output_type": "display_data"
    }
   ],
   "source": [
    "bar_chart('Parents/Children Aboard')\n",
    "plt.title('Number of parents/children aboard')\n",
    "plt.ylabel('Count')"
   ]
  },
  {
   "cell_type": "markdown",
   "metadata": {},
   "source": [
    "Similar to the previous chart, this one relates to family size and depicts the number of passengers that survived and died based on the number of parents or children with them.\n",
    "\n",
    "Like the previous chart, this one shows that most passengers on board had smaller families and, overall, passengers with no family with them were not a priority and subsequently many more died than survived. However, like the previous chart, of those with only one parent or child more survived than died suggesting that 1 parent/child is the magic number again although this could just be coincidence.\n",
    "\n",
    "Interestingly, having 4 or 6 parents/children with you reduced your survival rate to 0% which could potentially be explained by those passengers being in Class 3."
   ]
  },
  {
   "cell_type": "code",
   "execution_count": 10,
   "metadata": {},
   "outputs": [
    {
     "data": {
      "text/plain": [
       "<matplotlib.axes._subplots.AxesSubplot at 0x1a1e660710>"
      ]
     },
     "execution_count": 10,
     "metadata": {},
     "output_type": "execute_result"
    },
    {
     "data": {
      "image/png": "[encoded data removed]",
      "text/plain": [
       "<Figure size 432x288 with 1 Axes>"
      ]
     },
     "metadata": {
      "needs_background": "light"
     },
     "output_type": "display_data"
    }
   ],
   "source": [
    "#Look at survival rate by sex and class\n",
    "titanic.pivot_table('Survived', index='male', columns='Pclass').plot()"
   ]
  },
  {
   "cell_type": "markdown",
   "metadata": {},
   "source": [
    "Looking at this chart allowed us to cross-analyse the factors of passenger class and gender. It again confirms that being male more likely would lead to your demise as too would being in a lower passenger class and vice versa."
   ]
  },
  {
   "cell_type": "code",
   "execution_count": 11,
   "metadata": {},
   "outputs": [
    {
     "data": {
      "text/plain": [
       "<matplotlib.axes._subplots.AxesSubplot at 0x1a1e7b4f60>"
      ]
     },
     "execution_count": 11,
     "metadata": {},
     "output_type": "execute_result"
    },
    {
     "data": {
      "image/png": "[encoded data removed]",
      "text/plain": [
       "<Figure size 432x288 with 1 Axes>"
      ]
     },
     "metadata": {
      "needs_background": "light"
     },
     "output_type": "display_data"
    }
   ],
   "source": [
    "#plot the survival rate of each class\n",
    "sns.barplot(x = 'Pclass', y = 'Survived', data = titanic)"
   ]
  },
  {
   "cell_type": "markdown",
   "metadata": {},
   "source": [
    "Plotting the survival rate of all passengers by passenger class allows us to compare the three classes more numerically. The chart shows that over 60% of passengers in Class 1 survived, while approximately 48% in Class 2 survived but only 25% in Class 3 survived."
   ]
  },
  {
   "cell_type": "code",
   "execution_count": 12,
   "metadata": {},
   "outputs": [
    {
     "data": {
      "image/png": "[encoded data removed]",
      "text/plain": [
       "<Figure size 432x288 with 1 Axes>"
      ]
     },
     "metadata": {
      "needs_background": "light"
     },
     "output_type": "display_data"
    }
   ],
   "source": [
    "#Plot the Prices Paid Of Each Class\n",
    "plt.scatter( titanic['Fare'], titanic['Pclass'], label = 'Price paid')\n",
    "plt.ylabel('Class')\n",
    "plt.xlabel('Price / Fare')\n",
    "plt.title('Price Of Each Class')\n",
    "plt.legend()\n",
    "plt.show()"
   ]
  },
  {
   "cell_type": "markdown",
   "metadata": {},
   "source": [
    "Using our understanding of survival liklihood for different passenger classes, the above chart shows us that there is a similar correlation between that and the price paid for a ticket. I.e. the more a passenger paid for a ticket, the more likely it is they survived."
   ]
  },
  {
   "cell_type": "markdown",
   "metadata": {},
   "source": [
    "# Training the data \n",
    "\n",
    "We split the dataset into dependent and independent. Independent was if the passenger survived or not and dependent details of passengers we could potentially explain the chances of survival."
   ]
  },
  {
   "cell_type": "code",
   "execution_count": 13,
   "metadata": {
    "scrolled": false
   },
   "outputs": [],
   "source": [
    "x_dependent=titanic.drop('Survived',axis=1) #dependent variables\n",
    "y=titanic['Survived'] #independent variable\n"
   ]
  },
  {
   "cell_type": "markdown",
   "metadata": {},
   "source": [
    "The data was split into training data and testing data. We opted for an 80:20 approach where 80% of the data is used to train the model and the rest of the data to test the data. In terms of spitting, we choose a simple approach of using the first 80% of passengers for training and the last 20% for testing. As the data was already randomly sorted there was no need to perform a random split."
   ]
  },
  {
   "cell_type": "code",
   "execution_count": 14,
   "metadata": {},
   "outputs": [],
   "source": [
    "x=x_dependent.to_numpy()\n",
    "p=710 #for training we're use the first 80% of passengers \n",
    "x=x[:p]\n",
    "y=y[:p]\n"
   ]
  },
  {
   "cell_type": "markdown",
   "metadata": {},
   "source": [
    "# Logistic Regression\n",
    "\n",
    "Given a set of inputs x, we wanted to assign either 0 or 1 (survived or not survived). Logistic regression models the probability that each input belongs to a particular category.\n",
    "\n",
    "To generate probabilities, logistic regression uses a function that gives outputs between 0 and 1 for all values of x. There are many functions that meet this description, but the used in this case is the logistic function. This is commonly referred to as the Sigmoid function which is represented below:\n",
    "\n",
    "$$f\\left( t \\right)=\\frac{\\exp \\left( t \\right)}{1+\\exp \\left( t \\right)}$$\n",
    " "
   ]
  },
  {
   "cell_type": "code",
   "execution_count": 15,
   "metadata": {},
   "outputs": [
    {
     "data": {
      "image/png": "[encoded data removed]",
      "text/plain": [
       "<Figure size 432x288 with 1 Axes>"
      ]
     },
     "metadata": {
      "needs_background": "light"
     },
     "output_type": "display_data"
    }
   ],
   "source": [
    "def sigmoid(t):\n",
    "\n",
    "    sigmoid = 1/(1 + np.exp(-t))  \n",
    "    return sigmoid\n",
    "\n",
    "t = np.linspace(-10, 10, 20)\n",
    "plt.plot(sigmoid(t))\n",
    "plt.xlabel(\"t\") \n",
    "plt.ylabel(\"Sigmoid(t)\") \n",
    "plt.title(\"Sigmoid\")\n",
    "\n",
    "plt.show() "
   ]
  },
  {
   "cell_type": "markdown",
   "metadata": {},
   "source": [
    "## Loss function\n",
    "Functions have parameters/weights (represented by w in our notation) and we want to find the best values for them. To start we pick random values and we need a way to measure how well the algorithm performs using those random weights. That measure is computed using the loss function, defined as:\n",
    "$$−\\log \\left( p\\left( y|X,w \\right) \\right)=\\sum_{i}^{s}{\\log \\; 1+\\exp \\left( <x\\; ^{~},w> \\right)\\; −y<x\\; ̃,w>}\\; \\;             for\\; x\\; =\\; \\left( 1,x_{i} \\right)^{T}\\; and\\; y_{i}\\; \\in \\; 0,1.$$\n",
    "\n",
    "\n",
    "\n",
    "Our goal was to minimise the loss function and the way we achieved this was by increasing/decreasing the weights, i.e. fitting them. We needed to determine what parameters should be biggers and what parameters should be smallers. This was given by the derivative of the loss function with respect to each weight. It tells us how loss would change if we modified the parameters:\n",
    "\n",
    "$$\\; \\; calculate\\; loss\\; =\\frac{1}{m}X^{T}\\left( f\\left( Xw \\right)-y \\right)\\; \\;$$\n",
    "\n",
    "\n",
    "Where m is the number of passngers that were trained in our model.\n"
   ]
  },
  {
   "cell_type": "code",
   "execution_count": 16,
   "metadata": {
    "scrolled": false
   },
   "outputs": [
    {
     "data": {
      "text/plain": [
       "(0.7015107627220297,\n",
       " array([ 0.13306668, -0.0566588 , -0.01692828, -0.01567942, -0.01876051,\n",
       "        -0.43854973]))"
      ]
     },
     "execution_count": 16,
     "metadata": {},
     "output_type": "execute_result"
    }
   ],
   "source": [
    "loss = np.empty(0)\n",
    "tx = np.c_[np.ones((y.shape[0], 0)), x]\n",
    "a = tx.T.dot(tx)\n",
    "b = tx.T.dot(y)\n",
    "inv_a = np.linalg.inv(a)\n",
    "w = inv_a.dot(b)\n",
    "\n",
    "def calculate_loss(y, tx, w):\n",
    "  \n",
    "    num = y.shape[0]\n",
    "    a = tx.dot(w)\n",
    "    loss = -(y * np.log(sigmoid(a)) + (1 - y) * np.log(1 - sigmoid(a)))\n",
    "    return (np.sum(loss))/num \n",
    "    \n",
    "calculate_loss(y, tx, w)\n",
    "def calculate_gradient(y, tx, w):\n",
    "    num = y.shape[0]\n",
    "    grad = tx.T.dot((sigmoid(tx.dot(w))-y))\n",
    "    return grad / num\n",
    "\n",
    "\n",
    "tau = 0.01 \n",
    "def learning_by_gradient_descent(y, tx, w, tau):\n",
    "    loss = calculate_loss(y,tx,w)\n",
    "    grad = calculate_gradient(y,tx,w)\n",
    "    w = w - (tau*grad)\n",
    "    \n",
    "    return loss, w\n",
    "\n",
    "learning_by_gradient_descent(y, tx, w, tau)"
   ]
  },
  {
   "cell_type": "markdown",
   "metadata": {},
   "source": [
    "# Performing multiple iterations\n",
    "After we determined the initial weights, we can calculate the optimal weights by using the iterative gradient descent formula below:\n",
    "\n",
    "$$w^{k+1}=\\; w^{k}\\; −\\; \\tau ∇\\mbox{E}\\left( w^{k} \\right)\\; \\; \\; $$\n",
    "\n",
    "When first performing the iteration we discovered problems with the convergence of the loss function as the learning rate was too large resulting in the loss function fluctuating. Therefore we had to decrease the learning rate by a factor of 10 in order to prevent those fluctuations from occurring and allowing out loss to converge to an appropriate value.\n",
    "\n",
    "\n",
    "<br>\n",
    "We opted for the use of 64000 iterations. This allowed the loss to converge to an appropriate value to maximise the accuracy of our learning model, as a small change in the loss created large influence on the accuracy. At the same time, too many iterations would result a large amount of computing power and out programme crashing."
   ]
  },
  {
   "cell_type": "code",
   "execution_count": 17,
   "metadata": {},
   "outputs": [
    {
     "name": "stdout",
     "output_type": "stream",
     "text": [
      "Iteration: 0\n",
      "Loss: 0.7015107627220297\n",
      "Iteration: 1000\n",
      "Loss: 0.5792422385335997\n",
      "Iteration: 2000\n",
      "Loss: 0.5674170507592622\n",
      "Iteration: 3000\n",
      "Loss: 0.5606460438767114\n",
      "Iteration: 4000\n",
      "Loss: 0.5556686327082805\n",
      "Iteration: 5000\n",
      "Loss: 0.551519500326061\n",
      "Iteration: 6000\n",
      "Loss: 0.5478780988369346\n",
      "Iteration: 7000\n",
      "Loss: 0.5446175155064987\n",
      "Iteration: 8000\n",
      "Loss: 0.5416735972522753\n",
      "Iteration: 9000\n",
      "Loss: 0.5390049573130773\n",
      "Iteration: 10000\n",
      "Loss: 0.5365801045150043\n",
      "Iteration: 11000\n",
      "Loss: 0.534372981247493\n",
      "Iteration: 12000\n",
      "Loss: 0.5323612047174769\n",
      "Iteration: 13000\n",
      "Loss: 0.5305252233095488\n",
      "Iteration: 14000\n",
      "Loss: 0.5288478127924157\n",
      "Iteration: 15000\n",
      "Loss: 0.5273137202778252\n",
      "Iteration: 16000\n",
      "Loss: 0.5259093872086745\n",
      "Iteration: 17000\n",
      "Loss: 0.5246227234846956\n",
      "Iteration: 18000\n",
      "Loss: 0.5234429190759183\n",
      "Iteration: 19000\n",
      "Loss: 0.522360284973935\n",
      "Iteration: 20000\n",
      "Loss: 0.5213661178391001\n",
      "Iteration: 21000\n",
      "Loss: 0.5204525840980928\n",
      "Iteration: 22000\n",
      "Loss: 0.5196126201641004\n",
      "Iteration: 23000\n",
      "Loss: 0.5188398461192286\n",
      "Iteration: 24000\n",
      "Loss: 0.5181284907088487\n",
      "Iteration: 25000\n",
      "Loss: 0.5174733258966715\n",
      "Iteration: 26000\n",
      "Loss: 0.5168696095451176\n",
      "Iteration: 27000\n",
      "Loss: 0.5163130350372122\n",
      "Iteration: 28000\n",
      "Loss: 0.5157996868579238\n",
      "Iteration: 29000\n",
      "Loss: 0.5153260013153999\n",
      "Iteration: 30000\n",
      "Loss: 0.5148887317142679\n",
      "Iteration: 31000\n",
      "Loss: 0.514484917400525\n",
      "Iteration: 32000\n",
      "Loss: 0.5141118561855542\n",
      "Iteration: 33000\n",
      "Loss: 0.5137670797293937\n",
      "Iteration: 34000\n",
      "Loss: 0.5134483315235931\n",
      "Iteration: 35000\n",
      "Loss: 0.5131535471642231\n",
      "Iteration: 36000\n",
      "Loss: 0.5128808366477307\n",
      "Iteration: 37000\n",
      "Loss: 0.5126284684578606\n",
      "Iteration: 38000\n",
      "Loss: 0.5123948552419626\n",
      "Iteration: 39000\n",
      "Loss: 0.5121785409006296\n",
      "Iteration: 40000\n",
      "Loss: 0.5119781889365262\n",
      "Iteration: 41000\n",
      "Loss: 0.511792571927078\n",
      "Iteration: 42000\n",
      "Loss: 0.5116205620019093\n",
      "Iteration: 43000\n",
      "Loss: 0.5114611222199367\n",
      "Iteration: 44000\n",
      "Loss: 0.5113132987532001\n",
      "Iteration: 45000\n",
      "Loss: 0.511176213795105\n",
      "Iteration: 46000\n",
      "Loss: 0.5110490591199929\n",
      "Iteration: 47000\n",
      "Loss: 0.5109310902290553\n",
      "Iteration: 48000\n",
      "Loss: 0.5108216210247055\n",
      "Iteration: 49000\n",
      "Loss: 0.510720018961764\n",
      "Iteration: 50000\n",
      "Loss: 0.5106257006293191\n",
      "Iteration: 51000\n",
      "Loss: 0.5105381277219829\n",
      "Iteration: 52000\n",
      "Loss: 0.5104568033635605\n",
      "Iteration: 53000\n",
      "Loss: 0.5103812687499584\n",
      "Iteration: 54000\n",
      "Loss: 0.5103111000815436\n",
      "Iteration: 55000\n",
      "Loss: 0.5102459057581665\n",
      "Iteration: 56000\n",
      "Loss: 0.5101853238127407\n",
      "Iteration: 57000\n",
      "Loss: 0.5101290195616568\n",
      "Iteration: 58000\n",
      "Loss: 0.5100766834524403\n",
      "Iteration: 59000\n",
      "Loss: 0.5100280290909676\n",
      "Iteration: 60000\n",
      "Loss: 0.5099827914322556\n",
      "Iteration: 61000\n",
      "Loss: 0.5099407251203736\n",
      "Iteration: 62000\n",
      "Loss: 0.5099016029643905\n",
      "Iteration: 63000\n",
      "Loss: 0.5098652145385032\n"
     ]
    }
   ],
   "source": [
    "losses = []\n",
    "tau = 0.001\n",
    "for i in range (64000):\n",
    "    \n",
    "    loss, w = learning_by_gradient_descent(y, tx, w, tau)\n",
    "    losses.append(loss)\n",
    "    \n",
    "    if i % 1000 == 0:\n",
    "        print ('Iteration:',i)\n",
    "        print ('Loss:', loss)"
   ]
  },
  {
   "cell_type": "markdown",
   "metadata": {},
   "source": [
    "# Visualising the loss\n",
    "\n",
    "To determine if the cost function was indeed converging we plotted cost against iterations. Clearly, as the number of iteration increases, the cost function converges to around 0.5."
   ]
  },
  {
   "cell_type": "code",
   "execution_count": 18,
   "metadata": {
    "scrolled": true
   },
   "outputs": [
    {
     "data": {
      "text/plain": [
       "Text(0, 0.5, 'Loss')"
      ]
     },
     "execution_count": 18,
     "metadata": {},
     "output_type": "execute_result"
    },
    {
     "data": {
      "image/png": "[encoded data removed]",
      "text/plain": [
       "<Figure size 432x288 with 1 Axes>"
      ]
     },
     "metadata": {
      "needs_background": "light"
     },
     "output_type": "display_data"
    }
   ],
   "source": [
    "plt.plot(losses) #visual indicator to show the convergence of the loss functions \n",
    "plt.xlabel('Iterations')\n",
    "plt.ylabel('Loss')"
   ]
  },
  {
   "cell_type": "markdown",
   "metadata": {},
   "source": [
    "# Testing \n",
    "\n",
    "We used the remaining 20% of the data to test our model and examine how representative our weights are. Using the Sigmoid function we achieve the probability of our passenger belonging to class 1. Then taking all probabilities greater 0.5 equal to class 1 and less than 0.5 to class 0 were able to determine if a passenger survived or not."
   ]
  },
  {
   "cell_type": "code",
   "execution_count": 19,
   "metadata": {},
   "outputs": [],
   "source": [
    "#the remaining 20% is going to be used for testing \n",
    "\n",
    "dependent_data= titanic.drop('Survived',axis=1)\n",
    "independent_data=titanic['Survived']\n",
    "\n",
    "testing_datax=dependent_data[-178:] \n",
    "testing_datay=independent_data[-178:] \n",
    "matrix=np.dot(testing_datax,w)\n",
    "\n",
    "threshold1 = 0.5\n",
    "predictor = sigmoid(matrix)\n",
    "\n",
    "#converting the output of the sigmoid to binary to classify surivival\n",
    "\n",
    "for i in range (0, 178):\n",
    "    if predictor[i]>threshold1:\n",
    "        predictor[i] = 1 \n",
    "    else:\n",
    "        predictor[i] = 0 \n",
    "i = i+1"
   ]
  },
  {
   "cell_type": "code",
   "execution_count": 20,
   "metadata": {
    "scrolled": false
   },
   "outputs": [
    {
     "name": "stdout",
     "output_type": "stream",
     "text": [
      "56\n",
      "64\n",
      "122\n",
      "114\n",
      "Accuracy 82.02247191011236\n"
     ]
    }
   ],
   "source": [
    "print (sum(predictor==1)) # number of people to survive prediction\n",
    "print (sum(testing_datay==1)) # number of people that actually survived \n",
    "print (sum(predictor==0))\n",
    "print (sum(testing_datay==0))\n",
    "\n",
    "\n",
    "accuracy = np.mean(predictor==testing_datay)*100 # comparing the average predicted surivial rate with actual survival rate  \n",
    "print (\"Accuracy\" , accuracy)"
   ]
  },
  {
   "cell_type": "markdown",
   "metadata": {},
   "source": [
    "# Making a prediction \n",
    "\n",
    "We then wanted to see if we would survive the titanic ourselves! Therefore we created variables to take input from the user which would then multiply by the optimised weights, and output whether survived or not.  \n"
   ]
  },
  {
   "cell_type": "code",
   "execution_count": null,
   "metadata": {},
   "outputs": [
    {
     "name": "stdout",
     "output_type": "stream",
     "text": [
      "What class were you travelling on?\n",
      "1\n",
      "What is your age?\n",
      "18\n",
      "How many Siblings/Spouses did you have on board?\n",
      "5\n",
      "How many parents/children did you have on board?\n",
      "2\n"
     ]
    }
   ],
   "source": [
    "joinedlist = []\n",
    "\n",
    "pclass = int(input(\"What class were you travelling on?\\n\"))\n",
    "age = int(input(\"What is your age?\\n\"))\n",
    "sibspou = int(input(\"How many Siblings/Spouses did you have on board?\\n\"))\n",
    "parchild = int(input(\"How many parents/children did you have on board?\\n\"))\n",
    "fare = int(input(\"How much was your ticket?\\n\"))\n",
    "gender = int(input(\"What is your gender? Enter 1 for male or 0 for female.\\n\"))\n",
    "\n",
    "joinedlist.append(pclass)\n",
    "joinedlist.append(age)\n",
    "joinedlist.append(sibspou)\n",
    "joinedlist.append(parchild)\n",
    "joinedlist.append(fare)\n",
    "joinedlist.append(gender)\n",
    "\n",
    "result = np.matmul(joinedlist, w)\n",
    "\n",
    "survival = sigmoid(result)\n",
    "if survival>threshold1:\n",
    "    print(\"You have survived\")\n",
    "else:\n",
    "    print(\"You have not survived\")\n",
    "\n",
    "print(survival)"
   ]
  },
  {
   "cell_type": "markdown",
   "metadata": {},
   "source": [
    "# Comparing with Sklearn model\n",
    "\n",
    "As a form of reference we ran the dataset against the Sklearn model. The model produced an accuracy of 79.6% suggesting that our model produces more accurate predictions. "
   ]
  },
  {
   "cell_type": "code",
   "execution_count": 22,
   "metadata": {},
   "outputs": [
    {
     "name": "stdout",
     "output_type": "stream",
     "text": [
      "Accuracy:  0.795774647887324\n"
     ]
    },
    {
     "name": "stderr",
     "output_type": "stream",
     "text": [
      "//anaconda3/lib/python3.7/site-packages/sklearn/linear_model/logistic.py:432: FutureWarning: Default solver will be changed to 'lbfgs' in 0.22. Specify a solver to silence this warning.\n",
      "  FutureWarning)\n"
     ]
    }
   ],
   "source": [
    "from sklearn.linear_model import LogisticRegression\n",
    "log = LogisticRegression (random_state = 0)\n",
    "log.fit(x, y)\n",
    "\n",
    "print('Accuracy: ', log.score(x, y))"
   ]
  },
  {
   "cell_type": "markdown",
   "metadata": {},
   "source": [
    "# Conclusion\n",
    "\n",
    "The variables that have the most influence on survival are the following:\n",
    "<br>\n",
    "1- Gender \n",
    "<br>\n",
    "2- Siblings/Spouses Aboard\t\n",
    "3- Parents/Children Aboard\n",
    "<br>\n",
    "4- Pclass\n",
    "<br>\n",
    "5- Fare\n",
    "<br>\n",
    "6- Age\n",
    "<br>\n",
    "\n",
    "Looking at the values of our weights, they paint a clear picture that tells us how each factor impacts the likelihood of survival. It is immediately apparent that the gender had the biggest effect (because it is the most negative weight) and specifically confirms that male passengers are least likely to have survived. This aligns with our initial thoughts from analysis of the graphs. \n",
    "\n",
    "The next two factors that would make it less likely for a passenger to survive are the number of siblings/spouses and the number of parents/children they have i.e. their family size. The weights indicate that the bigger a passenger’s family size, the less likely they are to survive. This again fits with what we thought from looking at the graphs but also now lets us know how important these factors are in terms of survival which is something that data visualisation can't always tell you.\n",
    "\n",
    "Our weights also suggest that the older a passenger is, the more likely they are to survive. However, the value of the weight is the smallest positive value and confirms what we found from our graphical analysis which is that the oldest passengers still died. Importantly, age does not hold as big a precedent as fare price. Our model tells us that the more a passenger paid for their ticket, the more this adds to their chances of surviving however, being in a higher passenger class adds the most to a passenger's likelihood of surviving.\n",
    "\n",
    "Summarising, the easiest way to maximise your chances of surviving are to be a female in the highest passenger class.\n",
    "\n"
   ]
  }
 ],
 "metadata": {
  "kernelspec": {
   "display_name": "Python 3",
   "language": "python",
   "name": "python3"
  },
  "language_info": {
   "codemirror_mode": {
    "name": "ipython",
    "version": 3
   },
   "file_extension": ".py",
   "mimetype": "text/x-python",
   "name": "python",
   "nbconvert_exporter": "python",
   "pygments_lexer": "ipython3",
   "version": "3.7.3"
  }
 },
 "nbformat": 4,
 "nbformat_minor": 2
}
